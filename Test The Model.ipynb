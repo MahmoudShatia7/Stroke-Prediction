{
 "cells": [
  {
   "cell_type": "code",
   "execution_count": 2,
   "id": "2893eb96-ca57-47d5-9b9a-eacf489943b4",
   "metadata": {},
   "outputs": [],
   "source": [
    "import pandas as pd\n",
    "from joblib import load"
   ]
  },
  {
   "cell_type": "code",
   "execution_count": 3,
   "id": "b3d85518-2925-48ea-9cf4-d41d6d5e08db",
   "metadata": {},
   "outputs": [
    {
     "name": "stdout",
     "output_type": "stream",
     "text": [
      "Model loaded successfully.\n"
     ]
    }
   ],
   "source": [
    "model_path = 'best_model.joblib'  \n",
    "loaded_model = load(model_path)\n",
    "\n",
    "print(\"Model loaded successfully.\")\n"
   ]
  },
  {
   "cell_type": "markdown",
   "id": "f3ab0ace-6e27-4113-9430-b7b9f36c0a46",
   "metadata": {},
   "source": [
    "# Test from our dataset"
   ]
  },
  {
   "cell_type": "code",
   "execution_count": 16,
   "id": "f54d5c8b-8bec-48a6-a06a-e1cfb1996003",
   "metadata": {},
   "outputs": [
    {
     "name": "stdout",
     "output_type": "stream",
     "text": [
      "Prediction: Stroke\n"
     ]
    }
   ],
   "source": [
    "input_data = {\n",
    "    'gender': 'Male',\n",
    "    'age': 67.0,\n",
    "    'hypertension': 0,\n",
    "    'heart_disease': 1,\n",
    "    'ever_married': 'Yes',\n",
    "    'work_type': 'Private',\n",
    "    'Residence_type': 'Urban',\n",
    "    'bmi': 36.6,\n",
    "    'smoking_status': 'formerly smoked',\n",
    "    'age_category': 'Senior',\n",
    "    'glucose_level_category': 'Diabetes',\n",
    "    'has_diabetes': 1\n",
    "}\n",
    "\n",
    "input_df = pd.DataFrame([input_data])\n",
    "\n",
    "prediction = best_model.predict(input_df)\n",
    "\n",
    "prediction_dict = {0: 'Not Stroke', 1: 'Stroke'}\n",
    "result = prediction_dict[prediction[0]]  \n",
    "\n",
    "print(\"Prediction:\", result)"
   ]
  },
  {
   "cell_type": "code",
   "execution_count": 17,
   "id": "c8124494-18df-4031-8933-f11bb40664a9",
   "metadata": {},
   "outputs": [
    {
     "name": "stdout",
     "output_type": "stream",
     "text": [
      "Prediction: Stroke\n"
     ]
    }
   ],
   "source": [
    "input_data = {\n",
    "    'gender': 'Female',\n",
    "    'age': 79.0,\n",
    "    'hypertension': 1,\n",
    "    'heart_disease': 0,\n",
    "    'ever_married': 'Yes',\n",
    "    'work_type': 'Self-employed',\n",
    "    'Residence_type': 'Rural',\n",
    "    'bmi': 24.0,\n",
    "    'smoking_status': 'never smoked',\n",
    "    'age_category': 'Senior',\n",
    "    'glucose_level_category': 'Diabetes',\n",
    "    'has_diabetes': 1\n",
    "}\n",
    "\n",
    "input_df = pd.DataFrame([input_data])\n",
    "\n",
    "prediction = best_model.predict(input_df)\n",
    "\n",
    "prediction_dict = {0: 'Not Stroke', 1: 'Stroke'}\n",
    "result = prediction_dict[prediction[0]]  \n",
    "\n",
    "print(\"Prediction:\", result)"
   ]
  },
  {
   "cell_type": "code",
   "execution_count": 18,
   "id": "c9509532-899b-40cb-84da-418871bc0933",
   "metadata": {},
   "outputs": [
    {
     "name": "stdout",
     "output_type": "stream",
     "text": [
      "Prediction: Not Stroke\n"
     ]
    }
   ],
   "source": [
    "input_data = {\n",
    "    'gender': 'Female',\n",
    "    'age': 44.0,\n",
    "    'hypertension': 0,\n",
    "    'heart_disease': 0,\n",
    "    'ever_married': 'Yes',\n",
    "    'work_type': 'Govt_job',\n",
    "    'Residence_type': 'Urban',\n",
    "    'bmi': 26.2,\n",
    "    'smoking_status': 'Unknown',\n",
    "    'age_category': 'Middle-aged Adult',\n",
    "    'glucose_level_category': 'Normal',\n",
    "    'has_diabetes': 0\n",
    "}\n",
    "\n",
    "input_df = pd.DataFrame([input_data])\n",
    "\n",
    "prediction = best_model.predict(input_df)\n",
    "\n",
    "prediction_dict = {0: 'Not Stroke', 1: 'Stroke'}\n",
    "result = prediction_dict[prediction[0]]  \n",
    "\n",
    "print(\"Prediction:\", result)"
   ]
  },
  {
   "cell_type": "code",
   "execution_count": 19,
   "id": "291fefdf-a5ba-4412-951a-f1c141ff6c40",
   "metadata": {},
   "outputs": [
    {
     "name": "stdout",
     "output_type": "stream",
     "text": [
      "Prediction: Not Stroke\n"
     ]
    }
   ],
   "source": [
    "input_data = {\n",
    "    'gender': 'Female',\n",
    "    'age': 35.0,\n",
    "    'hypertension': 0,\n",
    "    'heart_disease': 0,\n",
    "    'ever_married': 'Yes',\n",
    "    'work_type': 'Self-employed',\n",
    "    'Residence_type': 'Rural',\n",
    "    'bmi': 36.6,\n",
    "    'smoking_status': 'never smoked',\n",
    "    'age_category': 'Middle-aged Adult',\n",
    "    'glucose_level_category': 'Normal',\n",
    "    'has_diabetes': 0\n",
    "}\n",
    "\n",
    "input_df = pd.DataFrame([input_data])\n",
    "\n",
    "prediction = best_model.predict(input_df)\n",
    "\n",
    "prediction_dict = {0: 'Not Stroke', 1: 'Stroke'}\n",
    "result = prediction_dict[prediction[0]]  \n",
    "\n",
    "print(\"Prediction:\", result)"
   ]
  }
 ],
 "metadata": {
  "kernelspec": {
   "display_name": "Python 3 (ipykernel)",
   "language": "python",
   "name": "python3"
  },
  "language_info": {
   "codemirror_mode": {
    "name": "ipython",
    "version": 3
   },
   "file_extension": ".py",
   "mimetype": "text/x-python",
   "name": "python",
   "nbconvert_exporter": "python",
   "pygments_lexer": "ipython3",
   "version": "3.9.19"
  }
 },
 "nbformat": 4,
 "nbformat_minor": 5
}
